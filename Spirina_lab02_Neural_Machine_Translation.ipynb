{
  "cells": [
    {
      "cell_type": "markdown",
      "source": [
        "# Спирина Татьяна DS-22"
      ],
      "metadata": {
        "id": "FgEQ2NmHJJWy"
      }
    },
    {
      "cell_type": "markdown",
      "metadata": {
        "id": "hjg5q4nKtlex"
      },
      "source": [
        "## Lab assignment 02"
      ]
    },
    {
      "cell_type": "markdown",
      "metadata": {
        "id": "S8Ceg_l0tle0"
      },
      "source": [
        "### Neural Machine Translation in the wild\n",
        "In the third homework you are supposed to get the best translation you can for the EN-RU translation task.\n",
        "\n",
        "Basic approach using RNNs as encoder and decoder is implemented for you. \n",
        "\n",
        "Your ultimate task is to use the techniques we've covered, e.g.\n",
        "\n",
        "* Optimization enhancements (e.g. learning rate decay)\n",
        "\n",
        "* CNN encoder (with or without positional encoding)\n",
        "\n",
        "* attention/self-attention mechanism\n",
        "\n",
        "* pretraining the language model\n",
        "\n",
        "* [Byte Pair Encoding](https://github.com/rsennrich/subword-nmt)\n",
        "\n",
        "* or just fine-tunning BERT ;)\n",
        "\n",
        "to improve the translation quality. \n",
        "\n",
        "__Please use at least three different approaches/models and compare them (translation quality/complexity/training and evaluation time).__\n",
        "\n",
        "Write down some summary on your experiments and illustrate it with convergence plots/metrics and your thoughts. Just like you would approach a real problem."
      ]
    },
    {
      "cell_type": "code",
      "execution_count": null,
      "metadata": {
        "id": "S82kMGCBtle2"
      },
      "outputs": [],
      "source": [
        "# You might need to install the libraries below. Do it in the desired environment\n",
        "# if you are working locally.\n",
        "\n",
        "! pip  install subword-nmt\n",
        "! pip install nltk\n",
        "# ! pip install torchtext"
      ]
    },
    {
      "cell_type": "code",
      "execution_count": null,
      "metadata": {
        "colab": {
          "base_uri": "https://localhost:8080/"
        },
        "id": "HfMdG1m1tle3",
        "outputId": "0b010293-32da-4d36-e6f8-44f1e1906f4f"
      },
      "outputs": [
        {
          "output_type": "stream",
          "name": "stdout",
          "text": [
            "Dataset not found locally. Downloading from github.\n",
            "--2022-06-08 07:28:53--  https://raw.githubusercontent.com/neychev/made_nlp_course/master/datasets/Machine_translation_EN_RU/data.txt\n",
            "Resolving raw.githubusercontent.com (raw.githubusercontent.com)... 185.199.108.133, 185.199.109.133, 185.199.110.133, ...\n",
            "Connecting to raw.githubusercontent.com (raw.githubusercontent.com)|185.199.108.133|:443... connected.\n",
            "HTTP request sent, awaiting response... 200 OK\n",
            "Length: 12905334 (12M) [text/plain]\n",
            "Saving to: ‘data.txt’\n",
            "\n",
            "data.txt            100%[===================>]  12.31M  --.-KB/s    in 0.07s   \n",
            "\n",
            "2022-06-08 07:28:55 (175 MB/s) - ‘data.txt’ saved [12905334/12905334]\n",
            "\n"
          ]
        }
      ],
      "source": [
        "# Thanks to YSDA NLP course team for the data\n",
        "# (who thanks tilda and deephack teams for the data in their turn)\n",
        "\n",
        "import os\n",
        "path_to_data = '../../datasets/Machine_translation_EN_RU/data.txt'\n",
        "if not os.path.exists(path_to_data):\n",
        "    print(\"Dataset not found locally. Downloading from github.\")\n",
        "    !wget https://raw.githubusercontent.com/neychev/made_nlp_course/master/datasets/Machine_translation_EN_RU/data.txt -nc\n",
        "    path_to_data = './data.txt'"
      ]
    },
    {
      "cell_type": "code",
      "source": [
        "%load_ext autoreload\n",
        "%autoreload 2"
      ],
      "metadata": {
        "id": "jC3HWQdTt0qY"
      },
      "execution_count": null,
      "outputs": []
    },
    {
      "cell_type": "code",
      "source": [
        "torch.__version__"
      ],
      "metadata": {
        "colab": {
          "base_uri": "https://localhost:8080/",
          "height": 35
        },
        "id": "cXioZBXfuVbV",
        "outputId": "8638e0a2-ffd4-40aa-c6d0-439105dc855a"
      },
      "execution_count": null,
      "outputs": [
        {
          "output_type": "execute_result",
          "data": {
            "text/plain": [
              "'1.10.0+cu102'"
            ],
            "application/vnd.google.colaboratory.intrinsic+json": {
              "type": "string"
            }
          },
          "metadata": {},
          "execution_count": 26
        }
      ]
    },
    {
      "cell_type": "code",
      "source": [
        "! pip install torchtext==0.11"
      ],
      "metadata": {
        "id": "z9QDGB6Nvvbq"
      },
      "execution_count": null,
      "outputs": []
    },
    {
      "cell_type": "code",
      "source": [
        "! pip install datasets transformers[sentencepiece] sacrebleu"
      ],
      "metadata": {
        "id": "S3mcjrfPFfpK"
      },
      "execution_count": null,
      "outputs": []
    },
    {
      "cell_type": "code",
      "execution_count": null,
      "metadata": {
        "id": "9o1jBL03tle4"
      },
      "outputs": [],
      "source": [
        "import torch\n",
        "import torch.nn as nn\n",
        "import torch.optim as optim\n",
        "\n",
        "import torchtext\n",
        "\n",
        "import math\n",
        "import time\n",
        "import numpy as np\n",
        "import pandas as pd\n",
        "import json\n",
        "\n",
        "\n",
        "import matplotlib\n",
        "matplotlib.rcParams.update({'figure.figsize': (16, 12), 'font.size': 14})\n",
        "import matplotlib.pyplot as plt\n",
        "%matplotlib inline\n",
        "from IPython.display import clear_output\n"
      ]
    },
    {
      "cell_type": "code",
      "source": [
        "import pipeline"
      ],
      "metadata": {
        "id": "MeqvEiwAas8k"
      },
      "execution_count": null,
      "outputs": []
    },
    {
      "cell_type": "code",
      "source": [
        "train_data, valid_data, test_data, SRC, TRG = pipeline.process_dataset(path_to_data)"
      ],
      "metadata": {
        "colab": {
          "base_uri": "https://localhost:8080/"
        },
        "id": "nJU-TWOxa_Pe",
        "outputId": "f5ae9d3c-c67f-4db4-bf82-0fd929470944"
      },
      "execution_count": null,
      "outputs": [
        {
          "output_type": "stream",
          "name": "stdout",
          "text": [
            "Number of training examples: 40000\n",
            "Number of validation examples: 2500\n",
            "Number of testing examples: 7500\n",
            "Unique tokens in source (ru) vocabulary: 9259\n",
            "Unique tokens in target (en) vocabulary: 6726\n"
          ]
        }
      ]
    },
    {
      "cell_type": "code",
      "source": [
        "SRC.vocab.itos[::1000]"
      ],
      "metadata": {
        "colab": {
          "base_uri": "https://localhost:8080/"
        },
        "id": "WiTxTf_WcPpA",
        "outputId": "5b356633-59f3-4723-822e-2edc8e22d68c"
      },
      "execution_count": null,
      "outputs": [
        {
          "output_type": "execute_result",
          "data": {
            "text/plain": [
              "['<unk>',\n",
              " 'автобусе',\n",
              " 'red',\n",
              " 'кафедральный',\n",
              " 'chiado',\n",
              " 'укомплектованным',\n",
              " 'lovely',\n",
              " 'флик',\n",
              " 'душа',\n",
              " 'ташкента']"
            ]
          },
          "metadata": {},
          "execution_count": 12
        }
      ]
    },
    {
      "cell_type": "code",
      "source": [
        "TRG.vocab.itos[::1000]"
      ],
      "metadata": {
        "colab": {
          "base_uri": "https://localhost:8080/"
        },
        "id": "rtiuEYJvcS6i",
        "outputId": "70293535-4cda-40ad-c777-c67d5377eb2e"
      },
      "execution_count": null,
      "outputs": [
        {
          "output_type": "execute_result",
          "data": {
            "text/plain": [
              "['<unk>', 'order', 'generous', 'cebu', 'lan', 'shenyang', 'mackerel']"
            ]
          },
          "metadata": {},
          "execution_count": 13
        }
      ]
    },
    {
      "cell_type": "code",
      "execution_count": null,
      "metadata": {
        "colab": {
          "base_uri": "https://localhost:8080/"
        },
        "outputId": "eba595ef-65b9-440a-a338-15f68cf597cd",
        "id": "0mwx_0bKcX6V"
      },
      "outputs": [
        {
          "output_type": "stream",
          "name": "stdout",
          "text": [
            "{'trg': ['a', 'continental', 'breakfast', 'is', 'offered', 'at', 'surcharge', '.'], 'src': ['континентальный', 'завтрак', 'накрывают', 'за', 'дополнительную', 'плату', '.']}\n"
          ]
        }
      ],
      "source": [
        "print(vars(train_data.examples[35500]))"
      ]
    },
    {
      "cell_type": "code",
      "source": [
        "print(vars(test_data.examples[1]))"
      ],
      "metadata": {
        "colab": {
          "base_uri": "https://localhost:8080/"
        },
        "id": "UaZi3r2WIOb_",
        "outputId": "26dea632-4945-430c-9a26-e946734edd12"
      },
      "execution_count": null,
      "outputs": [
        {
          "output_type": "stream",
          "name": "stdout",
          "text": [
            "{'trg': ['a', 'refrigerator', 'is', 'included', 'in', 'all', 'guest', 'rooms', 'at', 'premier', 'inns', 'thousand', 'oaks', '.'], 'src': ['все', 'номера', 'отеля', 'premier', 'inns', 'thousand', 'oaks', 'оборудованы', 'холодильником', '.']}\n"
          ]
        }
      ]
    },
    {
      "cell_type": "code",
      "execution_count": null,
      "metadata": {
        "colab": {
          "base_uri": "https://localhost:8080/",
          "height": 307
        },
        "outputId": "75b82afc-a5d2-4a0b-9fdc-6c7c8ee2ee35",
        "id": "k7-fQTwLcX6b"
      },
      "outputs": [
        {
          "output_type": "stream",
          "name": "stdout",
          "text": [
            "Length distribution in Train data\n"
          ]
        },
        {
          "output_type": "display_data",
          "data": {
            "text/plain": [
              "<Figure size 576x288 with 2 Axes>"
            ],
            "image/png": "[encoded data removed]"
          },
          "metadata": {
            "needs_background": "light"
          }
        }
      ],
      "source": [
        "src_length = map(len, [vars(x)['src'] for x in train_data.examples])\n",
        "trg_length = map(len, [vars(x)['trg'] for x in train_data.examples])\n",
        "\n",
        "print('Length distribution in Train data')\n",
        "plt.figure(figsize=[8, 4])\n",
        "plt.subplot(1, 2, 1)\n",
        "plt.title(\"source length\")\n",
        "plt.hist(list(src_length), bins=20);\n",
        "\n",
        "plt.subplot(1, 2, 2)\n",
        "plt.title(\"translation length\")\n",
        "plt.hist(list(trg_length), bins=20);"
      ]
    },
    {
      "cell_type": "code",
      "execution_count": null,
      "metadata": {
        "colab": {
          "base_uri": "https://localhost:8080/",
          "height": 307
        },
        "outputId": "c5b59b51-78a0-43e1-9cd3-0a101f73811c",
        "id": "JY2J9AascX6g"
      },
      "outputs": [
        {
          "output_type": "stream",
          "name": "stdout",
          "text": [
            "Length distribution in Test data\n"
          ]
        },
        {
          "output_type": "display_data",
          "data": {
            "text/plain": [
              "<Figure size 576x288 with 2 Axes>"
            ],
            "image/png": "[encoded data removed]"
          },
          "metadata": {
            "needs_background": "light"
          }
        }
      ],
      "source": [
        "src_length = map(len, [vars(x)['src'] for x in test_data.examples])\n",
        "trg_length = map(len, [vars(x)['trg'] for x in test_data.examples])\n",
        "\n",
        "print('Length distribution in Test data')\n",
        "plt.figure(figsize=[8, 4])\n",
        "plt.subplot(1, 2, 1)\n",
        "plt.title(\"source length\")\n",
        "plt.hist(list(src_length), bins=20);\n",
        "\n",
        "plt.subplot(1, 2, 2)\n",
        "plt.title(\"translation length\")\n",
        "plt.hist(list(trg_length), bins=20);"
      ]
    },
    {
      "cell_type": "markdown",
      "source": [
        "Помимо baseline у меня в плане было: что-то с attention, transformer, посмотреть предобученную модель вместе с готовой реализацией transformer, попробовать Bert. "
      ],
      "metadata": {
        "id": "6kyTrr9ENFO1"
      }
    },
    {
      "cell_type": "markdown",
      "source": [
        "# Baseline\n",
        "Предложенная изначально в ноутбуке модель"
      ],
      "metadata": {
        "id": "9hziDrdEeabH"
      }
    },
    {
      "cell_type": "code",
      "source": [
        "import my_network\n",
        "Encoder = my_network.Encoder\n",
        "Decoder = my_network.Decoder\n",
        "Seq2Seq = my_network.Seq2Seq"
      ],
      "metadata": {
        "id": "njnB_kfIcwW6"
      },
      "execution_count": null,
      "outputs": []
    },
    {
      "cell_type": "code",
      "source": [
        "device = torch.device('cuda' if torch.cuda.is_available() else 'cpu')\n",
        "baseline_model = pipeline.model_init(Encoder, Decoder, Seq2Seq, SRC, TRG, device)"
      ],
      "metadata": {
        "colab": {
          "base_uri": "https://localhost:8080/"
        },
        "id": "A8rMOhb_cmD4",
        "outputId": "8fcab515-745e-46d6-fdee-e6175ffafb08"
      },
      "execution_count": null,
      "outputs": [
        {
          "output_type": "stream",
          "name": "stdout",
          "text": [
            "cuda\n",
            "The model has 14,899,014 trainable parameters\n"
          ]
        }
      ]
    },
    {
      "cell_type": "code",
      "source": [
        "model, test_iterator, bleu_baseline = pipeline.train_loop(baseline_model, \"baseline\", device, train_data, valid_data, test_data, SRC, TRG, N_EPOCHS = 10)"
      ],
      "metadata": {
        "colab": {
          "base_uri": "https://localhost:8080/",
          "height": 578
        },
        "id": "cVgjfMg2efyQ",
        "outputId": "8c46b511-d69f-4111-be18-e0243e1cbc1a"
      },
      "execution_count": null,
      "outputs": [
        {
          "output_type": "display_data",
          "data": {
            "text/plain": [
              "<Figure size 864x576 with 2 Axes>"
            ],
            "image/png": "[encoded data removed]"
          },
          "metadata": {
            "needs_background": "light"
          }
        },
        {
          "output_type": "stream",
          "name": "stdout",
          "text": [
            "Epoch: 10 | Time: 1m 47s\n",
            "\tTrain Loss: 2.899 | Train PPL:  18.147\n",
            "\t Val. Loss: 4.659 |  Val. PPL: 105.558\n"
          ]
        }
      ]
    },
    {
      "cell_type": "code",
      "source": [
        " bl_test_bleu, bl_test_loss = pipeline.sample_and_bleu(model, test_iterator, test_data, TRG, device)"
      ],
      "metadata": {
        "colab": {
          "base_uri": "https://localhost:8080/"
        },
        "id": "vXqvc-_8mCZe",
        "outputId": "4b7bd5d1-5bbc-430a-b5b4-edb9d4ee8fca"
      },
      "execution_count": null,
      "outputs": [
        {
          "output_type": "stream",
          "name": "stderr",
          "text": [
            "59it [00:04, 13.21it/s]\n"
          ]
        },
        {
          "output_type": "stream",
          "name": "stdout",
          "text": [
            "BLEU:  14.993061670060895 \n",
            "\n",
            "-------\n",
            "Примеры сгенерированных переводов:\n",
            "Original: room service is also available .\n",
            "Generated: room service is available .\n",
            "\n",
            "Original: in fly fishing , this attractive beachfront lodge is located in punta , at the end of the ka ’ an biosphere reserve ’ s boca peninsula .\n",
            "Generated: this hotel is located in the heart of the of , , the of the and .\n",
            "\n",
            "Original: a tv is offered .\n",
            "Generated: a tv .\n",
            "\n",
            "Original: is 43 km from villa in loutraki , while town is 48 km away .\n",
            "Generated: is is km from , while is is km from the property .\n",
            "\n",
            "Original: restaurants and grocery shops are found within 50 metres of the property .\n",
            "Generated: shops and restaurants can be found within metres away .\n",
            "\n",
            "Original: each comprises a kitchenette , a dining area and a flat - screen cable tv .\n",
            "Generated: the apartment is a living area with a flat - screen tv and a channels .\n",
            "\n",
            "-------\n",
            "Удачные переводы\n",
            "Original: free private parking is available at a location nearby .\n",
            "Generated: free private parking is available on site .\n",
            "\n",
            "Original: free public parking is available nearby .\n",
            "Generated: free public parking nearby .\n",
            "\n",
            "Original: you will find a shared kitchen at the property .\n",
            "Generated: you will find a shared kitchen at the property .\n",
            "\n",
            "-------\n",
            "Неудачные переводы\n",
            "Original: you can also rent a bicycle to explore the island or request for a traditional massage .\n",
            "Generated: guests can enjoy a the of the and or in the surroundings , including cycling and hiking .\n",
            "\n",
            "Original: there is an entrance hall , a front desk and a communal lounge . luggage storage is available .\n",
            "Generated: at hotel you will find a 24 - hour front desk , a shared lounge and a shared lounge .\n",
            "\n",
            "Original: free outdoor parking is possible on site and a garage parking space is available for a surcharge .\n",
            "Generated: free parking is available on site and and a is available on site .\n",
            "\n",
            "Время инференса батча 32:  0.0816\n"
          ]
        }
      ]
    },
    {
      "cell_type": "markdown",
      "source": [
        "За 10 эпох результат, мягко говоря, средний"
      ],
      "metadata": {
        "id": "8s4uFFBnS49x"
      }
    },
    {
      "cell_type": "markdown",
      "source": [
        "Для определения \"удачных\" и \"неудачных\" переводов я не придумала ничего лучше, чем найти батчи с наибольшим\\наименьшим лоссом и взять оттуда экземпляр предложения. На глаз, не могу утверждать, что примеры идеально подходят. Но, судя по всему, более длинные предложения попадают в категорию худших результатов. "
      ],
      "metadata": {
        "id": "pMIeADDtUUWk"
      }
    },
    {
      "cell_type": "markdown",
      "source": [
        "# GRU + Attention\n",
        "На основе семинара с 4й лекции и github.com/bentrevett/pytorch-seq2seq"
      ],
      "metadata": {
        "id": "hNGtzNbCLaT_"
      }
    },
    {
      "cell_type": "code",
      "source": [
        "import gru_attention\n",
        "Encoder = gru_attention.Encoder\n",
        "Attention = gru_attention.Attention\n",
        "Decoder = gru_attention.Decoder\n",
        "\n",
        "Seq2Seq = gru_attention.Seq2Seq"
      ],
      "metadata": {
        "id": "cmfg0y_Tpgvd"
      },
      "execution_count": null,
      "outputs": []
    },
    {
      "cell_type": "code",
      "source": [
        "device = torch.device('cuda' if torch.cuda.is_available() else 'cpu')\n",
        "gru_att_model = pipeline.model_init(Encoder, Decoder, Seq2Seq, SRC, TRG, device, attention=Attention)"
      ],
      "metadata": {
        "colab": {
          "base_uri": "https://localhost:8080/"
        },
        "id": "XXR3xxdcpquc",
        "outputId": "0f7044b0-d84a-4f2a-c7f4-0ad4b23586ff"
      },
      "execution_count": null,
      "outputs": [
        {
          "output_type": "stream",
          "name": "stdout",
          "text": [
            "cuda\n",
            "The model has 22,585,158 trainable parameters\n"
          ]
        }
      ]
    },
    {
      "cell_type": "code",
      "source": [
        "att_model, att_test_iterator, bleu_att = pipeline.train_loop(gru_att_model, \"gru_att\", device, train_data, valid_data, test_data, SRC, TRG, N_EPOCHS = 10)"
      ],
      "metadata": {
        "colab": {
          "base_uri": "https://localhost:8080/",
          "height": 578
        },
        "id": "w-YB7OAUs_8H",
        "outputId": "4ddbcb87-5c32-48bf-868e-9db5fd2448f9"
      },
      "execution_count": null,
      "outputs": [
        {
          "output_type": "display_data",
          "data": {
            "text/plain": [
              "<Figure size 864x576 with 2 Axes>"
            ],
            "image/png": "[encoded data removed]"
          },
          "metadata": {
            "needs_background": "light"
          }
        },
        {
          "output_type": "stream",
          "name": "stdout",
          "text": [
            "Epoch: 10 | Time: 4m 27s\n",
            "\tTrain Loss: 1.474 | Train PPL:   4.365\n",
            "\t Val. Loss: 4.476 |  Val. PPL:  87.881\n"
          ]
        }
      ]
    },
    {
      "cell_type": "code",
      "source": [
        " att_test_bleu, att_test_loss = pipeline.sample_and_bleu(att_model, att_test_iterator, test_data, TRG, device)"
      ],
      "metadata": {
        "colab": {
          "base_uri": "https://localhost:8080/"
        },
        "id": "RGRDnS3q2dQ6",
        "outputId": "d697ae35-a618-40cb-cc0d-a40ee5f80c9d"
      },
      "execution_count": null,
      "outputs": [
        {
          "output_type": "stream",
          "name": "stderr",
          "text": [
            "59it [00:07,  7.72it/s]\n"
          ]
        },
        {
          "output_type": "stream",
          "name": "stdout",
          "text": [
            "BLEU:  33.20767422968306 \n",
            "\n",
            "-------\n",
            "Примеры сгенерированных переводов:\n",
            "Original: room service is also available .\n",
            "Generated: room service is also available .\n",
            "\n",
            "Original: in fly fishing , this attractive beachfront lodge is located in punta , at the end of the ka ’ an biosphere reserve ’ s boca peninsula .\n",
            "Generated: this beautiful of , this beautiful of , on the of , , fishing .\n",
            "\n",
            "Original: a tv is offered .\n",
            "Generated: a tv is offered .\n",
            "\n",
            "Original: is 43 km from villa in loutraki , while town is 48 km away .\n",
            "Generated: - is 43 km from villa in , while is 48 km away .\n",
            "\n",
            "Original: restaurants and grocery shops are found within 50 metres of the property .\n",
            "Generated: restaurants and grocery stores are be found 50 metres from the chalet .\n",
            "\n",
            "Original: each comprises a kitchenette , a dining area and a flat - screen cable tv .\n",
            "Generated: the kitchenette is equipped with a kitchenette , dining area and a flat - screen cable tv .\n",
            "\n",
            "-------\n",
            "Удачные переводы\n",
            "Original: the kitchen features a microwave .\n",
            "Generated: there is also a kitchen , equipped with a microwave .\n",
            "\n",
            "Original: free private parking is available at a location nearby .\n",
            "Generated: free private parking is available nearby .\n",
            "\n",
            "Original: you will find a shared kitchen at the property .\n",
            "Generated: there is a shared kitchen at the property .\n",
            "\n",
            "-------\n",
            "Неудачные переводы\n",
            "Original: offering a barbecue and views of the sea , apartments is situated in in the - county region .\n",
            "Generated: offering in , offers a view of the sea .\n",
            "\n",
            "Original: there is an entrance hall , a front desk and a communal lounge . luggage storage is available .\n",
            "Generated: other facilities offered at include a 24 - hour front desk , a shared lounge and luggage storage .\n",
            "\n",
            "Original: free outdoor parking is possible on site and a garage parking space is available for a surcharge .\n",
            "Generated: free can enjoy free on - site parking and a garage garage is available at a surcharge .\n",
            "\n",
            "Время инференса батча 32:  0.0955\n"
          ]
        }
      ]
    },
    {
      "cell_type": "markdown",
      "source": [
        "Результат немного лучше, хотя до идеала еще далеко. По графику Лосс кажется, что началось переобучение. Посмотрим в конце графики Bleu. Училась модель ощутимо дольше."
      ],
      "metadata": {
        "id": "SztpGVjBJwDS"
      }
    },
    {
      "cell_type": "markdown",
      "source": [
        "# Transformer\n",
        "На основе упомянутого на лекции github.com/bentrevett/pytorch-seq2seq"
      ],
      "metadata": {
        "id": "F759bEX8Ne91"
      }
    },
    {
      "cell_type": "code",
      "source": [
        "import transformer\n",
        "train_data, valid_data, test_data, SRC, TRG = pipeline.process_dataset(path_to_data, bf=True)\n",
        "\n",
        "Encoder = transformer.Encoder\n",
        "\n",
        "Decoder = transformer.Decoder\n",
        "\n",
        "Seq2Seq = transformer.Seq2Seq\n",
        "\n",
        "device = torch.device('cuda' if torch.cuda.is_available() else 'cpu')\n",
        "transf_model = pipeline.transformer_init(Encoder, Decoder, Seq2Seq, SRC, TRG, device)"
      ],
      "metadata": {
        "colab": {
          "base_uri": "https://localhost:8080/"
        },
        "id": "PLPwzNp31nKR",
        "outputId": "c62e8767-31f9-41ed-a4a1-a31b19649bff"
      },
      "execution_count": null,
      "outputs": [
        {
          "output_type": "stream",
          "name": "stdout",
          "text": [
            "Number of training examples: 40000\n",
            "Number of validation examples: 2500\n",
            "Number of testing examples: 7500\n",
            "Unique tokens in source (ru) vocabulary: 9247\n",
            "Unique tokens in target (en) vocabulary: 6712\n",
            "cuda\n",
            "The model has 8,497,464 trainable parameters\n"
          ]
        }
      ]
    },
    {
      "cell_type": "code",
      "source": [
        "transformer_model, tr_test_iterator, bleu_transf = pipeline.train_loop(transf_model, \"transformer\", device, train_data, valid_data, test_data, SRC, TRG, N_EPOCHS = 10, transformer=True)"
      ],
      "metadata": {
        "colab": {
          "base_uri": "https://localhost:8080/",
          "height": 578
        },
        "id": "MMlOTGNIKuH8",
        "outputId": "fe678cda-594f-44b3-ebec-480d80721279"
      },
      "execution_count": null,
      "outputs": [
        {
          "output_type": "display_data",
          "data": {
            "text/plain": [
              "<Figure size 864x576 with 2 Axes>"
            ],
            "image/png": "[encoded data removed]"
          },
          "metadata": {
            "needs_background": "light"
          }
        },
        {
          "output_type": "stream",
          "name": "stdout",
          "text": [
            "Epoch: 10 | Time: 0m 40s\n",
            "\tTrain Loss: 1.154 | Train PPL:   3.172\n",
            "\t Val. Loss: 1.591 |  Val. PPL:   4.911\n"
          ]
        }
      ]
    },
    {
      "cell_type": "code",
      "source": [
        "tr_test_bleu, tr_test_loss = pipeline.sample_and_bleu(transformer_model, tr_test_iterator, test_data, TRG, device, transformer=True)"
      ],
      "metadata": {
        "id": "UR5hi678M2WN",
        "outputId": "5d236388-072e-4957-9637-61e8e4a6eb73",
        "colab": {
          "base_uri": "https://localhost:8080/"
        }
      },
      "execution_count": null,
      "outputs": [
        {
          "output_type": "stream",
          "name": "stderr",
          "text": [
            "59it [00:01, 47.07it/s]\n"
          ]
        },
        {
          "output_type": "stream",
          "name": "stdout",
          "text": [
            "BLEU:  38.29633014644783 \n",
            "\n",
            "-------\n",
            "Примеры сгенерированных переводов:\n",
            "Original: free private parking is available .\n",
            "Generated: free private parking is available on\n",
            "\n",
            "Original: situated right next to the shopping and entertainment area in oslo , hotel atrium offers free wi - fi and rooms with flat - screen cable tvs .\n",
            "Generated: located just outside to the bruges and and area the district , bruges , hotel offers offers rooms wi - fi and rooms with flat - screen tv tv .\n",
            "\n",
            "Original: the property offers free parking .\n",
            "Generated: the property offers free parking .\n",
            "\n",
            "Original: every room has a private balcony , an lcd satellite tv , an en suite bathroom and free wi - fi .\n",
            "Generated: they room has a private balcony , lcd lcd tv tv and and en suite bathroom and free wifi - fi .\n",
            "\n",
            "Original: amenities include satellite tv and a fridge .\n",
            "Generated: rooms include cable tv and a refrigerator .\n",
            "\n",
            "Original: the hotel also provides luggage storage and airport shuttle services on request .\n",
            "Generated: luggage hotel also offers luggage storage and shuttle shuttle services upon request .\n",
            "\n",
            "-------\n",
            "Удачные переводы\n",
            "Original: the living room features a fireplace .\n",
            "Generated: the living room comes a fireplace .\n",
            "\n",
            "Original: a shower is provided in the bathroom .\n",
            "Generated: the shower is available in the bathroom .\n",
            "\n",
            "Original: the rooms are fitted with a tv .\n",
            "Generated: rooms rooms are fitted with a tv .\n",
            "\n",
            "-------\n",
            "Неудачные переводы\n",
            "Original: a microwave , fridge and coffee maker are standard in every room at anastasia inn .\n",
            "Generated: a microwave , refrigerator and coffee maker are standard in each room at anastasia inn\n",
            "\n",
            "Original: the accommodation is 350 metres from metro station , and free wi - fi is provided .\n",
            "Generated: it property features 350 metres from the metro station and and 350 wifi - fi access 350 .\n",
            "\n",
            "Original: guests can work out at the fitness centre or surf the internet in the business centre .\n",
            "Generated: guests can work out in the fitness centre and use business business terminal the business centre .\n",
            "\n",
            "Время инференса батча 32:  0.0258\n"
          ]
        }
      ]
    },
    {
      "cell_type": "markdown",
      "source": [
        "По прежнему хуже перевод считается у длинных предложений и предложений с неизвестными словами. Не знаю как надо было генерировать эти примеры.\n",
        "Перевод на глаз вышел лучше, однако некоторые слова имеют тенденцию дублироваться. \n",
        "\n",
        "Данная модель обучалась быстрее предыдущих. Лучше стали все метрики.\n",
        "Так же прочувствовала, что стратегия инициализации весов дает разницу в результатах.\n"
      ],
      "metadata": {
        "id": "22YhJ8wBIVyO"
      }
    },
    {
      "cell_type": "markdown",
      "source": [
        "### Промежуточные выводы:"
      ],
      "metadata": {
        "id": "30_v5PfeTYbY"
      }
    },
    {
      "cell_type": "markdown",
      "source": [
        "Изначально показатель Loss был для меня немного неинтуитивным. Рост Bleu, на ранних стадиях работы с заданием, от модели к модели давал заметный прирост качества и на глаз.  В процессе валидации записывала Bleu score на каждой эпохе, посмотрим их на графике. Мне казалось, что он даст большее представление о прогрессе моделей\\переобучении."
      ],
      "metadata": {
        "id": "M8UtDpnEKuI2"
      }
    },
    {
      "cell_type": "code",
      "source": [
        "fig = plt.figure(figsize=(8,5))\n",
        "plt.plot(bleu_transf, label =\"Transformer Bleu\")\n",
        "plt.plot(bleu_att, label =\"GRU+Attention Bleu\")\n",
        "plt.plot(bleu_baseline, label =\"Baseline Bleu\")\n",
        "plt.legend()\n",
        "plt.title(\"Bleu on epoch\")\n",
        "plt.show()"
      ],
      "metadata": {
        "id": "IUUn3wBzJReV",
        "colab": {
          "base_uri": "https://localhost:8080/",
          "height": 344
        },
        "outputId": "8682eab4-ff63-4b61-ad51-5ee9501d4327"
      },
      "execution_count": null,
      "outputs": [
        {
          "output_type": "display_data",
          "data": {
            "text/plain": [
              "<Figure size 576x360 with 1 Axes>"
            ],
            "image/png": "[encoded data removed]"
          },
          "metadata": {
            "needs_background": "light"
          }
        }
      ]
    },
    {
      "cell_type": "markdown",
      "source": [
        "Видно, что на моделях с attention (в данной архитектуре) рост Bleu на валидации выходит на плато"
      ],
      "metadata": {
        "id": "z9R-hvOXMGu_"
      }
    },
    {
      "cell_type": "markdown",
      "source": [
        "\n",
        "\n",
        "Дольше всего обучается модель gru+attention, она же имеет больше всего параметров. Transformer обучался быстрее всего и продемонстировал лучшие способности на нашем примере. Действительно, эффектно. \n",
        "\n"
      ],
      "metadata": {
        "id": "ij66-RnBr--W"
      }
    },
    {
      "cell_type": "code",
      "source": [
        "comparison = {'Model': ['LSTM-baseline', 'GRU+Attention', 'Transformer'], \n",
        "              'Bleu': [bl_test_bleu, att_test_bleu, tr_test_bleu], \n",
        "              'Loss':[bl_test_loss, att_test_loss, tr_test_loss],\n",
        "              }\n",
        "df_comparison = pd.DataFrame(comparison).T\n",
        "df_comparison"
      ],
      "metadata": {
        "colab": {
          "base_uri": "https://localhost:8080/",
          "height": 143
        },
        "id": "5OeiuOuNcbTo",
        "outputId": "fbef04a5-cabf-499d-cd0a-23fce39e7e83"
      },
      "execution_count": null,
      "outputs": [
        {
          "output_type": "execute_result",
          "data": {
            "text/plain": [
              "                   0              1            2\n",
              "Model  LSTM-baseline  GRU+Attention  Transformer\n",
              "Bleu       14.993062      33.207674     38.29633\n",
              "Loss        4.608991       4.386877     1.567202"
            ],
            "text/html": [
              "\n",
              "  <div id=\"df-a5ec8ae9-d2e7-4be6-a164-915f373b7538\">\n",
              "    <div class=\"colab-df-container\">\n",
              "      <div>\n",
              "<style scoped>\n",
              "    .dataframe tbody tr th:only-of-type {\n",
              "        vertical-align: middle;\n",
              "    }\n",
              "\n",
              "    .dataframe tbody tr th {\n",
              "        vertical-align: top;\n",
              "    }\n",
              "\n",
              "    .dataframe thead th {\n",
              "        text-align: right;\n",
              "    }\n",
              "</style>\n",
              "<table border=\"1\" class=\"dataframe\">\n",
              "  <thead>\n",
              "    <tr style=\"text-align: right;\">\n",
              "      <th></th>\n",
              "      <th>0</th>\n",
              "      <th>1</th>\n",
              "      <th>2</th>\n",
              "    </tr>\n",
              "  </thead>\n",
              "  <tbody>\n",
              "    <tr>\n",
              "      <th>Model</th>\n",
              "      <td>LSTM-baseline</td>\n",
              "      <td>GRU+Attention</td>\n",
              "      <td>Transformer</td>\n",
              "    </tr>\n",
              "    <tr>\n",
              "      <th>Bleu</th>\n",
              "      <td>14.993062</td>\n",
              "      <td>33.207674</td>\n",
              "      <td>38.29633</td>\n",
              "    </tr>\n",
              "    <tr>\n",
              "      <th>Loss</th>\n",
              "      <td>4.608991</td>\n",
              "      <td>4.386877</td>\n",
              "      <td>1.567202</td>\n",
              "    </tr>\n",
              "  </tbody>\n",
              "</table>\n",
              "</div>\n",
              "      <button class=\"colab-df-convert\" onclick=\"convertToInteractive('df-a5ec8ae9-d2e7-4be6-a164-915f373b7538')\"\n",
              "              title=\"Convert this dataframe to an interactive table.\"\n",
              "              style=\"display:none;\">\n",
              "        \n",
              "  <svg xmlns=\"http://www.w3.org/2000/svg\" height=\"24px\"viewBox=\"0 0 24 24\"\n",
              "       width=\"24px\">\n",
              "    <path d=\"M0 0h24v24H0V0z\" fill=\"none\"/>\n",
              "    <path d=\"M18.56 5.44l.94 2.06.94-2.06 2.06-.94-2.06-.94-.94-2.06-.94 2.06-2.06.94zm-11 1L8.5 8.5l.94-2.06 2.06-.94-2.06-.94L8.5 2.5l-.94 2.06-2.06.94zm10 10l.94 2.06.94-2.06 2.06-.94-2.06-.94-.94-2.06-.94 2.06-2.06.94z\"/><path d=\"M17.41 7.96l-1.37-1.37c-.4-.4-.92-.59-1.43-.59-.52 0-1.04.2-1.43.59L10.3 9.45l-7.72 7.72c-.78.78-.78 2.05 0 2.83L4 21.41c.39.39.9.59 1.41.59.51 0 1.02-.2 1.41-.59l7.78-7.78 2.81-2.81c.8-.78.8-2.07 0-2.86zM5.41 20L4 18.59l7.72-7.72 1.47 1.35L5.41 20z\"/>\n",
              "  </svg>\n",
              "      </button>\n",
              "      \n",
              "  <style>\n",
              "    .colab-df-container {\n",
              "      display:flex;\n",
              "      flex-wrap:wrap;\n",
              "      gap: 12px;\n",
              "    }\n",
              "\n",
              "    .colab-df-convert {\n",
              "      background-color: #E8F0FE;\n",
              "      border: none;\n",
              "      border-radius: 50%;\n",
              "      cursor: pointer;\n",
              "      display: none;\n",
              "      fill: #1967D2;\n",
              "      height: 32px;\n",
              "      padding: 0 0 0 0;\n",
              "      width: 32px;\n",
              "    }\n",
              "\n",
              "    .colab-df-convert:hover {\n",
              "      background-color: #E2EBFA;\n",
              "      box-shadow: 0px 1px 2px rgba(60, 64, 67, 0.3), 0px 1px 3px 1px rgba(60, 64, 67, 0.15);\n",
              "      fill: #174EA6;\n",
              "    }\n",
              "\n",
              "    [theme=dark] .colab-df-convert {\n",
              "      background-color: #3B4455;\n",
              "      fill: #D2E3FC;\n",
              "    }\n",
              "\n",
              "    [theme=dark] .colab-df-convert:hover {\n",
              "      background-color: #434B5C;\n",
              "      box-shadow: 0px 1px 3px 1px rgba(0, 0, 0, 0.15);\n",
              "      filter: drop-shadow(0px 1px 2px rgba(0, 0, 0, 0.3));\n",
              "      fill: #FFFFFF;\n",
              "    }\n",
              "  </style>\n",
              "\n",
              "      <script>\n",
              "        const buttonEl =\n",
              "          document.querySelector('#df-a5ec8ae9-d2e7-4be6-a164-915f373b7538 button.colab-df-convert');\n",
              "        buttonEl.style.display =\n",
              "          google.colab.kernel.accessAllowed ? 'block' : 'none';\n",
              "\n",
              "        async function convertToInteractive(key) {\n",
              "          const element = document.querySelector('#df-a5ec8ae9-d2e7-4be6-a164-915f373b7538');\n",
              "          const dataTable =\n",
              "            await google.colab.kernel.invokeFunction('convertToInteractive',\n",
              "                                                     [key], {});\n",
              "          if (!dataTable) return;\n",
              "\n",
              "          const docLinkHtml = 'Like what you see? Visit the ' +\n",
              "            '<a target=\"_blank\" href=https://colab.research.google.com/notebooks/data_table.ipynb>data table notebook</a>'\n",
              "            + ' to learn more about interactive tables.';\n",
              "          element.innerHTML = '';\n",
              "          dataTable['output_type'] = 'display_data';\n",
              "          await google.colab.output.renderOutput(dataTable, element);\n",
              "          const docLink = document.createElement('div');\n",
              "          docLink.innerHTML = docLinkHtml;\n",
              "          element.appendChild(docLink);\n",
              "        }\n",
              "      </script>\n",
              "    </div>\n",
              "  </div>\n",
              "  "
            ]
          },
          "metadata": {},
          "execution_count": 38
        }
      ]
    },
    {
      "cell_type": "markdown",
      "source": [
        "Тут в очередной раз умер колаб, не сохранив переменные, проще было уже перепечатать руками:"
      ],
      "metadata": {
        "id": "Afubz4WJGS-b"
      }
    },
    {
      "cell_type": "code",
      "source": [
        "comparison = { \n",
        "              'Bleu': [14.99, 33.21, 38.29], \n",
        "              'Loss':[4.61, 4.39, 1.57],\n",
        "              'Perplexity': [math.exp(4.61), math.exp(4.39), math.exp(1.57)],\n",
        "              'Trainable parameters': ['14.899.014', '22.585.158', '8.497.464'],\n",
        "              'Train last epoch time':[\"1m 47s\",\"4m 27s\",\"0m 40s\"], \n",
        "              'Inference 1batch-32':[0.0816, 0.0955, 0.0258], \n",
        "                            }\n",
        "df_comparison = pd.DataFrame(comparison, index = ['LSTM-baseline', 'GRU+Attention', 'Transformer'])\n",
        "df_comparison"
      ],
      "metadata": {
        "colab": {
          "base_uri": "https://localhost:8080/",
          "height": 143
        },
        "id": "zo4ar2Elkg2h",
        "outputId": "2d998182-66fa-4e8f-e9f4-99a4b66dfbf6"
      },
      "execution_count": 7,
      "outputs": [
        {
          "output_type": "execute_result",
          "data": {
            "text/plain": [
              "                Bleu  Loss  Perplexity Trainable parameters  \\\n",
              "LSTM-baseline  14.99  4.61  100.484150           14.899.014   \n",
              "GRU+Attention  33.21  4.39   80.640419           22.585.158   \n",
              "Transformer    38.29  1.57    4.806648            8.497.464   \n",
              "\n",
              "              Train last epoch time  Inference 1batch-32  \n",
              "LSTM-baseline                1m 47s               0.0816  \n",
              "GRU+Attention                4m 27s               0.0955  \n",
              "Transformer                  0m 40s               0.0258  "
            ],
            "text/html": [
              "\n",
              "  <div id=\"df-27d1c73d-d910-4ac0-aff5-bd540fb47dcb\">\n",
              "    <div class=\"colab-df-container\">\n",
              "      <div>\n",
              "<style scoped>\n",
              "    .dataframe tbody tr th:only-of-type {\n",
              "        vertical-align: middle;\n",
              "    }\n",
              "\n",
              "    .dataframe tbody tr th {\n",
              "        vertical-align: top;\n",
              "    }\n",
              "\n",
              "    .dataframe thead th {\n",
              "        text-align: right;\n",
              "    }\n",
              "</style>\n",
              "<table border=\"1\" class=\"dataframe\">\n",
              "  <thead>\n",
              "    <tr style=\"text-align: right;\">\n",
              "      <th></th>\n",
              "      <th>Bleu</th>\n",
              "      <th>Loss</th>\n",
              "      <th>Perplexity</th>\n",
              "      <th>Trainable parameters</th>\n",
              "      <th>Train last epoch time</th>\n",
              "      <th>Inference 1batch-32</th>\n",
              "    </tr>\n",
              "  </thead>\n",
              "  <tbody>\n",
              "    <tr>\n",
              "      <th>LSTM-baseline</th>\n",
              "      <td>14.99</td>\n",
              "      <td>4.61</td>\n",
              "      <td>100.484150</td>\n",
              "      <td>14.899.014</td>\n",
              "      <td>1m 47s</td>\n",
              "      <td>0.0816</td>\n",
              "    </tr>\n",
              "    <tr>\n",
              "      <th>GRU+Attention</th>\n",
              "      <td>33.21</td>\n",
              "      <td>4.39</td>\n",
              "      <td>80.640419</td>\n",
              "      <td>22.585.158</td>\n",
              "      <td>4m 27s</td>\n",
              "      <td>0.0955</td>\n",
              "    </tr>\n",
              "    <tr>\n",
              "      <th>Transformer</th>\n",
              "      <td>38.29</td>\n",
              "      <td>1.57</td>\n",
              "      <td>4.806648</td>\n",
              "      <td>8.497.464</td>\n",
              "      <td>0m 40s</td>\n",
              "      <td>0.0258</td>\n",
              "    </tr>\n",
              "  </tbody>\n",
              "</table>\n",
              "</div>\n",
              "      <button class=\"colab-df-convert\" onclick=\"convertToInteractive('df-27d1c73d-d910-4ac0-aff5-bd540fb47dcb')\"\n",
              "              title=\"Convert this dataframe to an interactive table.\"\n",
              "              style=\"display:none;\">\n",
              "        \n",
              "  <svg xmlns=\"http://www.w3.org/2000/svg\" height=\"24px\"viewBox=\"0 0 24 24\"\n",
              "       width=\"24px\">\n",
              "    <path d=\"M0 0h24v24H0V0z\" fill=\"none\"/>\n",
              "    <path d=\"M18.56 5.44l.94 2.06.94-2.06 2.06-.94-2.06-.94-.94-2.06-.94 2.06-2.06.94zm-11 1L8.5 8.5l.94-2.06 2.06-.94-2.06-.94L8.5 2.5l-.94 2.06-2.06.94zm10 10l.94 2.06.94-2.06 2.06-.94-2.06-.94-.94-2.06-.94 2.06-2.06.94z\"/><path d=\"M17.41 7.96l-1.37-1.37c-.4-.4-.92-.59-1.43-.59-.52 0-1.04.2-1.43.59L10.3 9.45l-7.72 7.72c-.78.78-.78 2.05 0 2.83L4 21.41c.39.39.9.59 1.41.59.51 0 1.02-.2 1.41-.59l7.78-7.78 2.81-2.81c.8-.78.8-2.07 0-2.86zM5.41 20L4 18.59l7.72-7.72 1.47 1.35L5.41 20z\"/>\n",
              "  </svg>\n",
              "      </button>\n",
              "      \n",
              "  <style>\n",
              "    .colab-df-container {\n",
              "      display:flex;\n",
              "      flex-wrap:wrap;\n",
              "      gap: 12px;\n",
              "    }\n",
              "\n",
              "    .colab-df-convert {\n",
              "      background-color: #E8F0FE;\n",
              "      border: none;\n",
              "      border-radius: 50%;\n",
              "      cursor: pointer;\n",
              "      display: none;\n",
              "      fill: #1967D2;\n",
              "      height: 32px;\n",
              "      padding: 0 0 0 0;\n",
              "      width: 32px;\n",
              "    }\n",
              "\n",
              "    .colab-df-convert:hover {\n",
              "      background-color: #E2EBFA;\n",
              "      box-shadow: 0px 1px 2px rgba(60, 64, 67, 0.3), 0px 1px 3px 1px rgba(60, 64, 67, 0.15);\n",
              "      fill: #174EA6;\n",
              "    }\n",
              "\n",
              "    [theme=dark] .colab-df-convert {\n",
              "      background-color: #3B4455;\n",
              "      fill: #D2E3FC;\n",
              "    }\n",
              "\n",
              "    [theme=dark] .colab-df-convert:hover {\n",
              "      background-color: #434B5C;\n",
              "      box-shadow: 0px 1px 3px 1px rgba(0, 0, 0, 0.15);\n",
              "      filter: drop-shadow(0px 1px 2px rgba(0, 0, 0, 0.3));\n",
              "      fill: #FFFFFF;\n",
              "    }\n",
              "  </style>\n",
              "\n",
              "      <script>\n",
              "        const buttonEl =\n",
              "          document.querySelector('#df-27d1c73d-d910-4ac0-aff5-bd540fb47dcb button.colab-df-convert');\n",
              "        buttonEl.style.display =\n",
              "          google.colab.kernel.accessAllowed ? 'block' : 'none';\n",
              "\n",
              "        async function convertToInteractive(key) {\n",
              "          const element = document.querySelector('#df-27d1c73d-d910-4ac0-aff5-bd540fb47dcb');\n",
              "          const dataTable =\n",
              "            await google.colab.kernel.invokeFunction('convertToInteractive',\n",
              "                                                     [key], {});\n",
              "          if (!dataTable) return;\n",
              "\n",
              "          const docLinkHtml = 'Like what you see? Visit the ' +\n",
              "            '<a target=\"_blank\" href=https://colab.research.google.com/notebooks/data_table.ipynb>data table notebook</a>'\n",
              "            + ' to learn more about interactive tables.';\n",
              "          element.innerHTML = '';\n",
              "          dataTable['output_type'] = 'display_data';\n",
              "          await google.colab.output.renderOutput(dataTable, element);\n",
              "          const docLink = document.createElement('div');\n",
              "          docLink.innerHTML = docLinkHtml;\n",
              "          element.appendChild(docLink);\n",
              "        }\n",
              "      </script>\n",
              "    </div>\n",
              "  </div>\n",
              "  "
            ]
          },
          "metadata": {},
          "execution_count": 7
        }
      ]
    },
    {
      "cell_type": "markdown",
      "source": [
        "Теперь видно, что разница в Loss действительно не слишком интуитивно понятна: между первыми двумя моделями разница этого параметра субъективно мала, а на экспоненте perplexity разница уже чувствуется, и всё же характеризует прогресс модели с attention относительно бейзлайн модели.\n"
      ],
      "metadata": {
        "id": "3_cIFFPhHj6D"
      }
    },
    {
      "cell_type": "markdown",
      "source": [
        "# Библиотека Transformers и предобученная Helsinki-NLP/opus-mt-ru-en\n",
        "На основе https://github.com/huggingface/notebooks/blob/main/examples/translation.ipynb"
      ],
      "metadata": {
        "id": "o2aEh0QIOUEs"
      }
    },
    {
      "cell_type": "markdown",
      "source": [
        "В ходе изучения задания я узнала, что всё написано до нас:) И есть готовая библиотека. Надо попробовать."
      ],
      "metadata": {
        "id": "kW0cvRZXy6ID"
      }
    },
    {
      "cell_type": "markdown",
      "source": [
        "Здесь pipeline сильно отличается от предыдущих моделей, не стала выносить отдельно и включать в сравнения."
      ],
      "metadata": {
        "id": "P6x_9a2XssAN"
      }
    },
    {
      "cell_type": "code",
      "source": [
        "import transformers"
      ],
      "metadata": {
        "id": "y-V6Ai-cqVQP"
      },
      "execution_count": null,
      "outputs": []
    },
    {
      "cell_type": "code",
      "source": [
        "model_checkpoint = \"Helsinki-NLP/opus-mt-ru-en\""
      ],
      "metadata": {
        "id": "FWeSEKgWJF9n"
      },
      "execution_count": null,
      "outputs": []
    },
    {
      "cell_type": "code",
      "source": [
        "with open(path_to_data, 'r') as f:\n",
        "    lines = f.readlines()\n",
        "lines2 = [line.strip().split('\\t') for line in lines]"
      ],
      "metadata": {
        "id": "ycEoYk0teVD2"
      },
      "execution_count": null,
      "outputs": []
    },
    {
      "cell_type": "code",
      "source": [
        "#idea from stackoverflow\n",
        "df = pd.DataFrame(lines2, columns=['en', 'ru'])\n",
        "train_data, valid_data, test_data = np.split(df.sample(frac=1), [int(.8*len(df)), int(.95*len(df))]) \n",
        "json_train = {'data': {'translation': [{'en': line[0], 'ru': line[1]} for line in train_data.values]}}\n",
        "json_valid = {'data': {'translation': [{'en': line[0], 'ru': line[1]} for line in valid_data.values]}}\n",
        "json_test = {'data': {'translation': [{'en': line[0], 'ru': line[1]} for line in test_data.values]}}\n",
        "with open('data_j_tr.json', 'w') as f:\n",
        "    f.write(json.dumps(json_train))\n",
        "with open('data_j_v.json', 'w') as f:\n",
        "    f.write(json.dumps(json_valid))\n",
        "with open('data_j_te.json', 'w') as f:\n",
        "    f.write(json.dumps(json_test))"
      ],
      "metadata": {
        "id": "AkyoaBcReRnv"
      },
      "execution_count": null,
      "outputs": []
    },
    {
      "cell_type": "code",
      "source": [
        "from transformers import AutoTokenizer\n",
        "    \n",
        "tokenizer = AutoTokenizer.from_pretrained(model_checkpoint)"
      ],
      "metadata": {
        "id": "vfoTwwbjJrin"
      },
      "execution_count": null,
      "outputs": []
    },
    {
      "cell_type": "code",
      "source": [
        "from datasets import load_dataset, load_metric\n",
        "\n",
        "raw_datasets = load_dataset('json', data_files={'train': 'data_j_tr.json', 'validation': 'data_j_v.json', 'test': 'data_j_te.json'}, field='data')\n",
        "metric = load_metric(\"sacrebleu\")"
      ],
      "metadata": {
        "id": "tHX-N6QgJSVA"
      },
      "execution_count": null,
      "outputs": []
    },
    {
      "cell_type": "code",
      "source": [
        "if \"mbart\" in model_checkpoint:\n",
        "    tokenizer.src_lang = \"ru_RU\"\n",
        "    tokenizer.tgt_lang = \"en_XX\""
      ],
      "metadata": {
        "id": "joOL5k3FJtPv"
      },
      "execution_count": null,
      "outputs": []
    },
    {
      "cell_type": "code",
      "source": [
        "if model_checkpoint in [\"t5-small\", \"t5-base\", \"t5-large\", \"t5-3b\", \"t5-11b\"]:\n",
        "    prefix = \"translate Russian to English: \"\n",
        "else:\n",
        "    prefix = \"\""
      ],
      "metadata": {
        "id": "Em3Lejc9cHUJ"
      },
      "execution_count": null,
      "outputs": []
    },
    {
      "cell_type": "code",
      "source": [
        "max_input_length = 100\n",
        "max_target_length = 100\n",
        "source_lang = \"ru\"\n",
        "target_lang = \"en\"\n",
        "\n",
        "def preprocess_function(examples):\n",
        "    inputs = [prefix + ex[source_lang] for ex in examples[\"translation\"]]\n",
        "    targets = [ex[target_lang] for ex in examples[\"translation\"]]\n",
        "    model_inputs = tokenizer(inputs, max_length=max_input_length, truncation=True)\n",
        "\n",
        "    with tokenizer.as_target_tokenizer():\n",
        "        labels = tokenizer(targets, max_length=max_target_length, truncation=True)\n",
        "\n",
        "    model_inputs[\"labels\"] = labels[\"input_ids\"]\n",
        "    return model_inputs"
      ],
      "metadata": {
        "id": "4iNyamHFcPuh"
      },
      "execution_count": null,
      "outputs": []
    },
    {
      "cell_type": "code",
      "source": [
        "tokenized_datasets = raw_datasets.map(preprocess_function, batched=True)"
      ],
      "metadata": {
        "id": "iKeaxQlqcV8S"
      },
      "execution_count": null,
      "outputs": []
    },
    {
      "cell_type": "code",
      "source": [
        "from transformers import AutoModelForSeq2SeqLM, DataCollatorForSeq2Seq,Seq2SeqTrainingArguments, Seq2SeqTrainer"
      ],
      "metadata": {
        "id": "aaevI6Knrvs5"
      },
      "execution_count": null,
      "outputs": []
    },
    {
      "cell_type": "code",
      "source": [
        "model = AutoModelForSeq2SeqLM.from_pretrained(model_checkpoint)"
      ],
      "metadata": {
        "id": "vMvTZhmdiNri"
      },
      "execution_count": null,
      "outputs": []
    },
    {
      "cell_type": "code",
      "source": [
        "batch_size = 16\n",
        "args = Seq2SeqTrainingArguments(\n",
        "    f\"ru-to-en\",\n",
        "    evaluation_strategy = \"epoch\",\n",
        "  \n",
        "    learning_rate=2e-5,\n",
        "    per_device_train_batch_size=batch_size,\n",
        "    per_device_eval_batch_size=batch_size,\n",
        "    weight_decay=0.01,\n",
        "    save_total_limit=3,\n",
        "    num_train_epochs=3,\n",
        "    predict_with_generate=True,\n",
        "    fp16=True,\n",
        "    \n",
        ")"
      ],
      "metadata": {
        "id": "rNVVvPGbckQn"
      },
      "execution_count": null,
      "outputs": []
    },
    {
      "cell_type": "code",
      "source": [
        "data_collator = DataCollatorForSeq2Seq(tokenizer, model=model)"
      ],
      "metadata": {
        "id": "5UDtvF2icyfb"
      },
      "execution_count": null,
      "outputs": []
    },
    {
      "cell_type": "code",
      "source": [
        "def postprocess_text(preds, labels):\n",
        "    preds = [pred.strip() for pred in preds]\n",
        "    labels = [[label.strip()] for label in labels]\n",
        "\n",
        "    return preds, labels\n",
        "\n",
        "def compute_metrics(eval_preds):\n",
        "    preds, labels = eval_preds\n",
        "    if isinstance(preds, tuple):\n",
        "        preds = preds[0]\n",
        "    decoded_preds = tokenizer.batch_decode(preds, skip_special_tokens=True)\n",
        "\n",
        "    labels = np.where(labels != -100, labels, tokenizer.pad_token_id)\n",
        "    decoded_labels = tokenizer.batch_decode(labels, skip_special_tokens=True)\n",
        "\n",
        "    decoded_preds, decoded_labels = postprocess_text(decoded_preds, decoded_labels)\n",
        "\n",
        "    result = metric.compute(predictions=decoded_preds, references=decoded_labels)\n",
        "    result = {\"bleu\": result[\"score\"]}\n",
        "\n",
        "    prediction_lens = [np.count_nonzero(pred != tokenizer.pad_token_id) for pred in preds]\n",
        "    result[\"gen_len\"] = np.mean(prediction_lens)\n",
        "    result = {k: round(v, 4) for k, v in result.items()}\n",
        "    return result"
      ],
      "metadata": {
        "id": "5kkA_UcQc2gB"
      },
      "execution_count": null,
      "outputs": []
    },
    {
      "cell_type": "code",
      "source": [
        "trainer = Seq2SeqTrainer(\n",
        "    model,\n",
        "    args,\n",
        "    train_dataset=tokenized_datasets[\"train\"],\n",
        "    eval_dataset=tokenized_datasets[\"validation\"],\n",
        "    data_collator=data_collator,\n",
        "    tokenizer=tokenizer,\n",
        "    compute_metrics=compute_metrics\n",
        ")"
      ],
      "metadata": {
        "colab": {
          "base_uri": "https://localhost:8080/"
        },
        "id": "HIGr_RGMc6LJ",
        "outputId": "6e7c9789-aaa0-4d57-ff0c-4d079a3e74b7"
      },
      "execution_count": null,
      "outputs": [
        {
          "output_type": "stream",
          "name": "stderr",
          "text": [
            "Using amp half precision backend\n"
          ]
        }
      ]
    },
    {
      "cell_type": "code",
      "source": [
        "trainer.train()"
      ],
      "metadata": {
        "colab": {
          "base_uri": "https://localhost:8080/",
          "height": 1000
        },
        "id": "hRL_dnWKc9GX",
        "outputId": "17323e78-3e8e-4a6a-d25f-2e1eb677b32e"
      },
      "execution_count": null,
      "outputs": [
        {
          "output_type": "stream",
          "name": "stderr",
          "text": [
            "The following columns in the training set don't have a corresponding argument in `MarianMTModel.forward` and have been ignored: translation. If translation are not expected by `MarianMTModel.forward`,  you can safely ignore this message.\n",
            "/usr/local/lib/python3.7/dist-packages/transformers/optimization.py:309: FutureWarning: This implementation of AdamW is deprecated and will be removed in a future version. Use the PyTorch implementation torch.optim.AdamW instead, or set `no_deprecation_warning=True` to disable this warning\n",
            "  FutureWarning,\n",
            "***** Running training *****\n",
            "  Num examples = 40000\n",
            "  Num Epochs = 3\n",
            "  Instantaneous batch size per device = 16\n",
            "  Total train batch size (w. parallel, distributed & accumulation) = 16\n",
            "  Gradient Accumulation steps = 1\n",
            "  Total optimization steps = 7500\n"
          ]
        },
        {
          "output_type": "display_data",
          "data": {
            "text/plain": [
              "<IPython.core.display.HTML object>"
            ],
            "text/html": [
              "\n",
              "    <div>\n",
              "      \n",
              "      <progress value='7500' max='7500' style='width:300px; height:20px; vertical-align: middle;'></progress>\n",
              "      [7500/7500 42:32, Epoch 3/3]\n",
              "    </div>\n",
              "    <table border=\"1\" class=\"dataframe\">\n",
              "  <thead>\n",
              " <tr style=\"text-align: left;\">\n",
              "      <th>Epoch</th>\n",
              "      <th>Training Loss</th>\n",
              "      <th>Validation Loss</th>\n",
              "      <th>Bleu</th>\n",
              "      <th>Gen Len</th>\n",
              "    </tr>\n",
              "  </thead>\n",
              "  <tbody>\n",
              "    <tr>\n",
              "      <td>1</td>\n",
              "      <td>1.220800</td>\n",
              "      <td>1.105677</td>\n",
              "      <td>36.145500</td>\n",
              "      <td>21.072800</td>\n",
              "    </tr>\n",
              "    <tr>\n",
              "      <td>2</td>\n",
              "      <td>1.052000</td>\n",
              "      <td>1.046674</td>\n",
              "      <td>37.526000</td>\n",
              "      <td>20.945600</td>\n",
              "    </tr>\n",
              "    <tr>\n",
              "      <td>3</td>\n",
              "      <td>0.978300</td>\n",
              "      <td>1.029544</td>\n",
              "      <td>38.182700</td>\n",
              "      <td>20.996300</td>\n",
              "    </tr>\n",
              "  </tbody>\n",
              "</table><p>"
            ]
          },
          "metadata": {}
        },
        {
          "output_type": "stream",
          "name": "stderr",
          "text": [
            "Saving model checkpoint to ru-to-en/checkpoint-500\n",
            "Configuration saved in ru-to-en/checkpoint-500/config.json\n",
            "Model weights saved in ru-to-en/checkpoint-500/pytorch_model.bin\n",
            "tokenizer config file saved in ru-to-en/checkpoint-500/tokenizer_config.json\n",
            "Special tokens file saved in ru-to-en/checkpoint-500/special_tokens_map.json\n",
            "Saving model checkpoint to ru-to-en/checkpoint-1000\n",
            "Configuration saved in ru-to-en/checkpoint-1000/config.json\n",
            "Model weights saved in ru-to-en/checkpoint-1000/pytorch_model.bin\n",
            "tokenizer config file saved in ru-to-en/checkpoint-1000/tokenizer_config.json\n",
            "Special tokens file saved in ru-to-en/checkpoint-1000/special_tokens_map.json\n",
            "Saving model checkpoint to ru-to-en/checkpoint-1500\n",
            "Configuration saved in ru-to-en/checkpoint-1500/config.json\n",
            "Model weights saved in ru-to-en/checkpoint-1500/pytorch_model.bin\n",
            "tokenizer config file saved in ru-to-en/checkpoint-1500/tokenizer_config.json\n",
            "Special tokens file saved in ru-to-en/checkpoint-1500/special_tokens_map.json\n",
            "Saving model checkpoint to ru-to-en/checkpoint-2000\n",
            "Configuration saved in ru-to-en/checkpoint-2000/config.json\n",
            "Model weights saved in ru-to-en/checkpoint-2000/pytorch_model.bin\n",
            "tokenizer config file saved in ru-to-en/checkpoint-2000/tokenizer_config.json\n",
            "Special tokens file saved in ru-to-en/checkpoint-2000/special_tokens_map.json\n",
            "Deleting older checkpoint [ru-to-en/checkpoint-500] due to args.save_total_limit\n",
            "Saving model checkpoint to ru-to-en/checkpoint-2500\n",
            "Configuration saved in ru-to-en/checkpoint-2500/config.json\n",
            "Model weights saved in ru-to-en/checkpoint-2500/pytorch_model.bin\n",
            "tokenizer config file saved in ru-to-en/checkpoint-2500/tokenizer_config.json\n",
            "Special tokens file saved in ru-to-en/checkpoint-2500/special_tokens_map.json\n",
            "Deleting older checkpoint [ru-to-en/checkpoint-1000] due to args.save_total_limit\n",
            "The following columns in the evaluation set don't have a corresponding argument in `MarianMTModel.forward` and have been ignored: translation. If translation are not expected by `MarianMTModel.forward`,  you can safely ignore this message.\n",
            "***** Running Evaluation *****\n",
            "  Num examples = 7500\n",
            "  Batch size = 16\n",
            "Saving model checkpoint to ru-to-en/checkpoint-3000\n",
            "Configuration saved in ru-to-en/checkpoint-3000/config.json\n",
            "Model weights saved in ru-to-en/checkpoint-3000/pytorch_model.bin\n",
            "tokenizer config file saved in ru-to-en/checkpoint-3000/tokenizer_config.json\n",
            "Special tokens file saved in ru-to-en/checkpoint-3000/special_tokens_map.json\n",
            "Deleting older checkpoint [ru-to-en/checkpoint-1500] due to args.save_total_limit\n",
            "Saving model checkpoint to ru-to-en/checkpoint-3500\n",
            "Configuration saved in ru-to-en/checkpoint-3500/config.json\n",
            "Model weights saved in ru-to-en/checkpoint-3500/pytorch_model.bin\n",
            "tokenizer config file saved in ru-to-en/checkpoint-3500/tokenizer_config.json\n",
            "Special tokens file saved in ru-to-en/checkpoint-3500/special_tokens_map.json\n",
            "Deleting older checkpoint [ru-to-en/checkpoint-2000] due to args.save_total_limit\n",
            "Saving model checkpoint to ru-to-en/checkpoint-4000\n",
            "Configuration saved in ru-to-en/checkpoint-4000/config.json\n",
            "Model weights saved in ru-to-en/checkpoint-4000/pytorch_model.bin\n",
            "tokenizer config file saved in ru-to-en/checkpoint-4000/tokenizer_config.json\n",
            "Special tokens file saved in ru-to-en/checkpoint-4000/special_tokens_map.json\n",
            "Deleting older checkpoint [ru-to-en/checkpoint-2500] due to args.save_total_limit\n",
            "Saving model checkpoint to ru-to-en/checkpoint-4500\n",
            "Configuration saved in ru-to-en/checkpoint-4500/config.json\n",
            "Model weights saved in ru-to-en/checkpoint-4500/pytorch_model.bin\n",
            "tokenizer config file saved in ru-to-en/checkpoint-4500/tokenizer_config.json\n",
            "Special tokens file saved in ru-to-en/checkpoint-4500/special_tokens_map.json\n",
            "Deleting older checkpoint [ru-to-en/checkpoint-3000] due to args.save_total_limit\n",
            "Saving model checkpoint to ru-to-en/checkpoint-5000\n",
            "Configuration saved in ru-to-en/checkpoint-5000/config.json\n",
            "Model weights saved in ru-to-en/checkpoint-5000/pytorch_model.bin\n",
            "tokenizer config file saved in ru-to-en/checkpoint-5000/tokenizer_config.json\n",
            "Special tokens file saved in ru-to-en/checkpoint-5000/special_tokens_map.json\n",
            "Deleting older checkpoint [ru-to-en/checkpoint-3500] due to args.save_total_limit\n",
            "The following columns in the evaluation set don't have a corresponding argument in `MarianMTModel.forward` and have been ignored: translation. If translation are not expected by `MarianMTModel.forward`,  you can safely ignore this message.\n",
            "***** Running Evaluation *****\n",
            "  Num examples = 7500\n",
            "  Batch size = 16\n",
            "Saving model checkpoint to ru-to-en/checkpoint-5500\n",
            "Configuration saved in ru-to-en/checkpoint-5500/config.json\n",
            "Model weights saved in ru-to-en/checkpoint-5500/pytorch_model.bin\n",
            "tokenizer config file saved in ru-to-en/checkpoint-5500/tokenizer_config.json\n",
            "Special tokens file saved in ru-to-en/checkpoint-5500/special_tokens_map.json\n",
            "Deleting older checkpoint [ru-to-en/checkpoint-4000] due to args.save_total_limit\n",
            "Saving model checkpoint to ru-to-en/checkpoint-6000\n",
            "Configuration saved in ru-to-en/checkpoint-6000/config.json\n",
            "Model weights saved in ru-to-en/checkpoint-6000/pytorch_model.bin\n",
            "tokenizer config file saved in ru-to-en/checkpoint-6000/tokenizer_config.json\n",
            "Special tokens file saved in ru-to-en/checkpoint-6000/special_tokens_map.json\n",
            "Deleting older checkpoint [ru-to-en/checkpoint-4500] due to args.save_total_limit\n",
            "Saving model checkpoint to ru-to-en/checkpoint-6500\n",
            "Configuration saved in ru-to-en/checkpoint-6500/config.json\n",
            "Model weights saved in ru-to-en/checkpoint-6500/pytorch_model.bin\n",
            "tokenizer config file saved in ru-to-en/checkpoint-6500/tokenizer_config.json\n",
            "Special tokens file saved in ru-to-en/checkpoint-6500/special_tokens_map.json\n",
            "Deleting older checkpoint [ru-to-en/checkpoint-5000] due to args.save_total_limit\n",
            "Saving model checkpoint to ru-to-en/checkpoint-7000\n",
            "Configuration saved in ru-to-en/checkpoint-7000/config.json\n",
            "Model weights saved in ru-to-en/checkpoint-7000/pytorch_model.bin\n",
            "tokenizer config file saved in ru-to-en/checkpoint-7000/tokenizer_config.json\n",
            "Special tokens file saved in ru-to-en/checkpoint-7000/special_tokens_map.json\n",
            "Deleting older checkpoint [ru-to-en/checkpoint-5500] due to args.save_total_limit\n",
            "Saving model checkpoint to ru-to-en/checkpoint-7500\n",
            "Configuration saved in ru-to-en/checkpoint-7500/config.json\n",
            "Model weights saved in ru-to-en/checkpoint-7500/pytorch_model.bin\n",
            "tokenizer config file saved in ru-to-en/checkpoint-7500/tokenizer_config.json\n",
            "Special tokens file saved in ru-to-en/checkpoint-7500/special_tokens_map.json\n",
            "Deleting older checkpoint [ru-to-en/checkpoint-6000] due to args.save_total_limit\n",
            "The following columns in the evaluation set don't have a corresponding argument in `MarianMTModel.forward` and have been ignored: translation. If translation are not expected by `MarianMTModel.forward`,  you can safely ignore this message.\n",
            "***** Running Evaluation *****\n",
            "  Num examples = 7500\n",
            "  Batch size = 16\n",
            "\n",
            "\n",
            "Training completed. Do not forget to share your model on huggingface.co/models =)\n",
            "\n",
            "\n"
          ]
        },
        {
          "output_type": "execute_result",
          "data": {
            "text/plain": [
              "TrainOutput(global_step=7500, training_loss=1.1425041341145834, metrics={'train_runtime': 2552.8627, 'train_samples_per_second': 47.006, 'train_steps_per_second': 2.938, 'total_flos': 1910151677214720.0, 'train_loss': 1.1425041341145834, 'epoch': 3.0})"
            ]
          },
          "metadata": {},
          "execution_count": 76
        }
      ]
    },
    {
      "cell_type": "markdown",
      "source": [
        "![Screenshot 2022-06-08 at 15-34-35 Google Colaboratory.png](data:image/png;base64,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)"
      ],
      "metadata": {
        "id": "LzNU7Hv2T2Vr"
      }
    },
    {
      "cell_type": "code",
      "source": [
        "from transformers import pipeline\n",
        "\n",
        "translator = pipeline(\"translation_ru_to_en\", model=model, tokenizer=tokenizer, device=0)"
      ],
      "metadata": {
        "id": "RP7SEx3cdJPa"
      },
      "execution_count": null,
      "outputs": []
    },
    {
      "cell_type": "code",
      "source": [
        "test_data = test_data.reset_index()"
      ],
      "metadata": {
        "id": "W2rlj2fQvdHc"
      },
      "execution_count": null,
      "outputs": []
    },
    {
      "cell_type": "code",
      "source": [
        "idx = [1, 2000, 33, 100, 1119, 11]\n",
        "for i in idx:\n",
        "  inputs = test_data.loc[i, 'ru']\n",
        "  target = test_data.loc[i, 'en']\n",
        "  translation = translator(inputs, return_text=True)\n",
        "  translation = [t[\"translation_text\"] for t in translation]\n",
        "  print(\"For translation:\", inputs)\n",
        "  print(\"Original:\", target)\n",
        "  print(\"Generated:\", *translation)\n",
        "  print()\n",
        "  "
      ],
      "metadata": {
        "colab": {
          "base_uri": "https://localhost:8080/"
        },
        "id": "gmvfsbQwdMfr",
        "outputId": "f17037d4-70a3-4d4b-b20e-7b86ddcf8d58"
      },
      "execution_count": null,
      "outputs": [
        {
          "output_type": "stream",
          "name": "stderr",
          "text": [
            "/usr/local/lib/python3.7/dist-packages/transformers/pipelines/base.py:998: UserWarning: You seem to be using the pipelines sequentially on GPU. In order to maximize efficiency please use a dataset\n",
            "  UserWarning,\n"
          ]
        },
        {
          "output_type": "stream",
          "name": "stdout",
          "text": [
            "For translation: До Длинного рынка и Двора Артура - 100 метров.\n",
            "Original: The property is 100 metres from Long Market and 100 metres from Artus Court.\n",
            "Generated: The Long Market and Arthur's Court are 100 metres away.\n",
            "\n",
            "For translation: Апартаменты Vogelstein расположены в городе Гриндельвальд, в 3 км от горы Фирст и в 1,4 км от горнолыжного подъемника Гриндельвальд Грунд - Мэннлихен.\n",
            "Original: Vogelstein is a sstudio located in Grindelwald. The property is 3.0 km from First and 1.4 km from Ski Lift Grindelwald Grund - Männlichen.\n",
            "Generated: Apartment Vogelstein is located in Grindelwald, 3 km from the Firest Mountain and 1.4 km from the Grindelwald Grund - Mannlichen Ski Lift.\n",
            "\n",
            "For translation: Персонал может заказать билеты на шоу фламенко и экскурсии в Альгамбру.\n",
            "Original: They can also book tickets for flamenco shows or visits to the Alhambra.\n",
            "Generated: Staff can book tickets for the Flamenco Show and excursions to Alhambra.\n",
            "\n",
            "For translation: В ванной комнате предоставляется фен.\n",
            "Original: A hairdryer is supplied in the bathroom.\n",
            "Generated: The bathroom comes with a hairdryer.\n",
            "\n",
            "For translation: Международный аэропорт Бандаранайке, ближайший к гостевому дому аэропорт, находится в 8 км.\n",
            "Original: The nearest airport is Bandaranaike International Airport, 8 km from the property.\n",
            "Generated: The nearest airport is Bandaranaike International Airport, 8 km from the property.\n",
            "\n",
            "For translation: Гости могут оставить свою машину на бесплатной парковке перед зданием.\n",
            "Original: You can park your car free of charge in front of the building.\n",
            "Generated: Guests can park their car free of charge in front of the building.\n",
            "\n"
          ]
        }
      ]
    },
    {
      "cell_type": "markdown",
      "source": [
        "Заметное улучшение качества, Bleu уже на первой эпохе составил 36. Учится довольно долго, не стала делать много эпох, суть понятна. Колаб пытался умирать, снизила батч. На взгляд всё тоже весьма хорошо. Сгенерированный перевод местами мне нравится даже больше, чем предоставляемый в датасете.\n",
        "\n",
        "Здесь опять момент задуматься о метриках качества перевода. Bleu одинаков с самописным transformer, однако, очевидно, что качество перевода лучше. И этот факт Loss(ну и заодно perplexity) описывает в итоге лучше. Для себя сформулировала по ощущениям от данной работы, что на ранней стадии Bleu показателен, а для более точной оценки я бы смотрела в итоге perplexity."
      ],
      "metadata": {
        "id": "Xbt-tkq_vbde"
      }
    },
    {
      "cell_type": "markdown",
      "source": [
        "# mBart\n",
        "Дальше я хотела поупражняться с BERT, но возникли трудности, которые я уже не осилила, оставлю себе это на лето. В процессе изучения наткнулась на такое развитие как mBart, было интересно просто посмотреть:"
      ],
      "metadata": {
        "id": "V5B-2vb-V5GP"
      }
    },
    {
      "cell_type": "code",
      "source": [
        "!pip install -q transformers\n",
        "!pip install -q sentencepiece"
      ],
      "metadata": {
        "id": "pA5CBeqcxCju"
      },
      "execution_count": null,
      "outputs": []
    },
    {
      "cell_type": "code",
      "source": [
        "from transformers import MBartForConditionalGeneration, MBart50TokenizerFast"
      ],
      "metadata": {
        "id": "Ze4kHPm-xDio"
      },
      "execution_count": null,
      "outputs": []
    },
    {
      "cell_type": "code",
      "source": [
        "model = MBartForConditionalGeneration.from_pretrained(\"facebook/mbart-large-50-many-to-many-mmt\")\n",
        "tokenizer = MBart50TokenizerFast.from_pretrained(\"facebook/mbart-large-50-many-to-many-mmt\", src_lang=\"ru_RU\")"
      ],
      "metadata": {
        "id": "DJI3BfAbxHhc"
      },
      "execution_count": null,
      "outputs": []
    },
    {
      "cell_type": "code",
      "source": [
        "idx = [1, 2000, 33, 100, 1119, 11]\n",
        "for i in idx:\n",
        "  text = test_data.loc[i, 'ru']\n",
        "  model_inputs = tokenizer(text, return_tensors = \"pt\")\n",
        "  generated_tokens = model.generate(**model_inputs, forced_bos_token_id = tokenizer.lang_code_to_id [\"en_XX\"])\n",
        "  translation = tokenizer.batch_decode(generated_tokens, skip_special_tokens=True)\n",
        "  print(\"For translation:\", text)\n",
        "  print(\"Original:\", test_data.loc[i, 'en'])\n",
        "  print(\"Generated:\", *translation)\n",
        "  print()"
      ],
      "metadata": {
        "colab": {
          "base_uri": "https://localhost:8080/"
        },
        "id": "F3pR-XDDyf5O",
        "outputId": "d647a6c1-1ae7-4046-dd69-dd644922a050"
      },
      "execution_count": null,
      "outputs": [
        {
          "output_type": "stream",
          "name": "stdout",
          "text": [
            "For translation: До Длинного рынка и Двора Артура - 100 метров.\n",
            "Original: The property is 100 metres from Long Market and 100 metres from Artus Court.\n",
            "Generated: The long market and Arthur's Palace are 100 meters away.\n",
            "\n",
            "For translation: Апартаменты Vogelstein расположены в городе Гриндельвальд, в 3 км от горы Фирст и в 1,4 км от горнолыжного подъемника Гриндельвальд Грунд - Мэннлихен.\n",
            "Original: Vogelstein is a sstudio located in Grindelwald. The property is 3.0 km from First and 1.4 km from Ski Lift Grindelwald Grund - Männlichen.\n",
            "Generated: Vogelstein Apartments are located in the town of Greendelwald, 3 km from Mount First and 1.4 km from the Greendelwald Grund-Mannlichen ski lift.\n",
            "\n",
            "For translation: Персонал может заказать билеты на шоу фламенко и экскурсии в Альгамбру.\n",
            "Original: They can also book tickets for flamenco shows or visits to the Alhambra.\n",
            "Generated: The staff can order tickets for Flamenco shows and excursions to the Alhambra.\n",
            "\n",
            "For translation: В ванной комнате предоставляется фен.\n",
            "Original: A hairdryer is supplied in the bathroom.\n",
            "Generated: The bathroom has a hairdryer.\n",
            "\n",
            "For translation: Международный аэропорт Бандаранайке, ближайший к гостевому дому аэропорт, находится в 8 км.\n",
            "Original: The nearest airport is Bandaranaike International Airport, 8 km from the property.\n",
            "Generated: Bandaranaike International Airport, the nearest airport to the guest house, is 8 km away.\n",
            "\n",
            "For translation: Гости могут оставить свою машину на бесплатной парковке перед зданием.\n",
            "Original: You can park your car free of charge in front of the building.\n",
            "Generated: Guests can park their car free of charge in front of the building.\n",
            "\n"
          ]
        }
      ]
    },
    {
      "cell_type": "markdown",
      "source": [
        "Качество перевода на глаз хорошее. Честно говоря, в предобученных вариантах иногда сгенерированный перевод мне кажется точнее оригинала из тестовой выборки. "
      ],
      "metadata": {
        "id": "RWpH784G0VI1"
      }
    },
    {
      "cell_type": "markdown",
      "source": [
        "Мне, как человеку, первый раз изучающему NLP(не считая задания с Шекспиром в 1м семестре) было очень интересно и не просто, поняла, что это задание, как ремонт по Жванецкому - невозможно закончить, можно только прекратить. Вариантов что еще можно сделать и попробовать даже в рамках текущей модели - много. Не закрыт гештальт по доделать руками Bert, CNN, BPE. Спасибо за задание и за большое количество открывшихся направлений, которые стоит изучить."
      ],
      "metadata": {
        "id": "cykrdAyvxCPP"
      }
    }
  ],
  "metadata": {
    "anaconda-cloud": {},
    "colab": {
      "collapsed_sections": [],
      "machine_shape": "hm",
      "name": "Spirina_lab02_Neural_Machine_Translation.ipynb",
      "provenance": []
    },
    "kernelspec": {
      "display_name": "Py3 Research",
      "language": "python",
      "name": "py3_research_kernel"
    },
    "language_info": {
      "codemirror_mode": {
        "name": "ipython",
        "version": 3
      },
      "file_extension": ".py",
      "mimetype": "text/x-python",
      "name": "python",
      "nbconvert_exporter": "python",
      "pygments_lexer": "ipython3",
      "version": "3.9.7"
    },
    "accelerator": "GPU"
  },
  "nbformat": 4,
  "nbformat_minor": 0
}